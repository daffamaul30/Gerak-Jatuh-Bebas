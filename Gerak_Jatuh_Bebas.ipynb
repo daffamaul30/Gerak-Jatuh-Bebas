{
  "nbformat": 4,
  "nbformat_minor": 0,
  "metadata": {
    "colab": {
      "name": "Gerak Jatuh Bebas",
      "provenance": [],
      "collapsed_sections": [],
      "authorship_tag": "ABX9TyM9gfQ04510lEX2JnPJL84c",
      "include_colab_link": true
    },
    "kernelspec": {
      "name": "python3",
      "display_name": "Python 3"
    },
    "accelerator": "GPU"
  },
  "cells": [
    {
      "cell_type": "markdown",
      "metadata": {
        "id": "view-in-github",
        "colab_type": "text"
      },
      "source": [
        "<a href=\"https://colab.research.google.com/github/daffamaul30/Gerak-Jatuh-Bebas/blob/master/Gerak_Jatuh_Bebas.ipynb\" target=\"_parent\"><img src=\"https://colab.research.google.com/assets/colab-badge.svg\" alt=\"Open In Colab\"/></a>"
      ]
    },
    {
      "cell_type": "code",
      "metadata": {
        "id": "E_4Rpu98gJAk",
        "colab_type": "code",
        "colab": {}
      },
      "source": [
        "import matplotlib.pyplot as plt\n",
        "\n",
        "v0 = 0        #misalkan\n",
        "x0 = 490      #misalkan\n",
        "y0 = 490      #misalkan\n",
        "a = -9.8      \n",
        "deltaT = 0.1  #misalkan\n",
        "\n",
        "def analitik():\n",
        "    hasil = []\n",
        "    tt = []\n",
        "    for i in range(1,5):\n",
        "        t = i*deltaT\n",
        "        tt.append(t)\n",
        "        x = 0.5*a*(t**2) + x0\n",
        "        hasil.append(x)\n",
        "    plt.plot(tt,hasil)\n",
        "    plt.show()\n",
        "\n",
        "def numerik():\n",
        "    hasil = []\n",
        "    hasilV = []\n",
        "    tt = []\n",
        "    arrayY = []\n",
        "    hasilV.append(0)\n",
        "    arrayY.append(490)\n",
        "    for i in range(1,6):\n",
        "        t = i*deltaT\n",
        "        tt.append(t)\n",
        "        v = hasilV[i-1] + (a*deltaT)\n",
        "        hasilV.append(v)\n",
        "        y = arrayY[i-1] + (hasilV[i-1]*deltaT)\n",
        "        arrayY.append(y)\n",
        "        hasil.append(round(y,2))\n",
        "    hasil.pop(0)\n",
        "    print(hasil)\n",
        "    tt.pop(4)\n",
        "    plt.plot(tt,hasil)\n",
        "    plt.show()\n",
        "\n",
        "def numerikVelocity(waktu):\n",
        "    waktu = waktu - deltaT\n",
        "    if (waktu > -0.1 and waktu < 0.01):\n",
        "        v = v0 + (a*deltaT)\n",
        "    else:\n",
        "        v = numerikVelocity(waktu) + (a*deltaT)\n",
        "    return v\n",
        "\n",
        "def numerikPosisi(waktu):\n",
        "    t = float(waktu) - deltaT\n",
        "    if (t > -0.1 and t < 0.01):\n",
        "        y = y0 + (numerikVelocity(waktu) * deltaT)\n",
        "    else:\n",
        "        y = numerikPosisi(t) + (numerikVelocity(waktu) * deltaT)\n",
        "    return y\n",
        "\n",
        "def numerik2(t):\n",
        "    hasil = []\n",
        "    j = 0\n",
        "    for i in t:\n",
        "        hasil.append(round(numerikPosisi(t[j]),2))\n",
        "        j +=1\n",
        "    print(hasil)\n",
        "    plt.plot(t,hasil)\n",
        "    plt.show()\n",
        "\n",
        "#[489.9, 489.71, 489.41, 489.02]\n",
        "t = [0.1,0.2,0.3,0.4] #Misalkan waktu adalah ini\n",
        "numerik2(t)\n",
        "#numerik()\n",
        "#analitik()"
      ],
      "execution_count": 0,
      "outputs": []
    }
  ]
}